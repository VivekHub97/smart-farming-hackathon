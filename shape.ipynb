{
 "cells": [
  {
   "cell_type": "markdown",
   "metadata": {},
   "source": [
    "# Import statements"
   ]
  },
  {
   "cell_type": "code",
   "execution_count": 1,
   "metadata": {},
   "outputs": [],
   "source": [
    "# Cell 1: Import Libraries\n",
    "import geopandas as gpd\n",
    "import pandas as pd\n",
    "import glob\n",
    "import os\n",
    "import json\n",
    "import plotly.express as px\n",
    "import dash\n",
    "from dash import dcc, html, Input, Output, Dash\n",
    "# Set SHAPE_RESTORE_SHX environment variable\n",
    "os.environ[\"SHAPE_RESTORE_SHX\"] = \"YES\""
   ]
  },
  {
   "cell_type": "code",
   "execution_count": 2,
   "metadata": {},
   "outputs": [],
   "source": [
    "# Read the JSON file\n",
    "def read_json(filename):\n",
    "    with open(filename, 'r') as file:\n",
    "        gemmingen_data = json.load(file)\n",
    "    return gemmingen_data"
   ]
  },
  {
   "cell_type": "code",
   "execution_count": 3,
   "metadata": {},
   "outputs": [],
   "source": [
    "def open_gdf_file(file_path):\n",
    "    gdf = gpd.read_file(file_path)\n",
    "    return gdf"
   ]
  },
  {
   "cell_type": "code",
   "execution_count": 5,
   "metadata": {},
   "outputs": [
    {
     "name": "stdout",
     "output_type": "stream",
     "text": [
      "All shapefiles combined successfully!\n"
     ]
    }
   ],
   "source": [
    "# Cell 2: Define Root Folder and Initialize List\n",
    "root_folder = \"data/Erntejahr 2024 (Weizen, komplett)\"\n",
    "\n",
    "calculate_emissions_json = read_json(\"gemmingen.json\")\n",
    "gemmingen_area = calculate_emissions_json[\"area\"]\n",
    "\n",
    "# Initialize an empty list to store shapefile paths\n",
    "shapefile_list = []\n",
    "\n",
    "# Traverse the directory structure\n",
    "for subdir, _, _ in os.walk(root_folder):\n",
    "    # Look for .shp files in the 'doc' folder of each subdirectory\n",
    "    shapefiles = glob.glob(os.path.join(subdir, \"doc\", \"*.shp\"))\n",
    "    shapefile_list.extend(shapefiles)\n",
    "\n",
    "\n",
    "# Cell 3: Read Shapefiles and Combine into a Single GeoDataFrame\n",
    "gdfs = []\n",
    "for shapefile_path in shapefile_list:\n",
    "    gdf = open_gdf_file(shapefile_path)\n",
    "    # Append the GeoDataFrame to a list\n",
    "    gdfs.append(gdf)\n",
    "\n",
    "# Concatenate all GeoDataFrames into a single GeoDataFrame\n",
    "combined_gdf = gpd.GeoDataFrame(pd.concat(gdfs, ignore_index=True), crs=gdfs[0].crs)\n",
    "\n",
    "# Fill missing values with NA\n",
    "combined_gdf = combined_gdf.fillna(0)\n",
    "\n",
    "# Cell 4: Display Output and Columns\n",
    "print(\"All shapefiles combined successfully!\")"
   ]
  },
  {
   "cell_type": "code",
   "execution_count": 6,
   "metadata": {},
   "outputs": [],
   "source": [
    "def getValues(column):\n",
    "    percent = calculate_emissions_json[column][\"Zusammensetzung\"]\n",
    "    emissionfactor = calculate_emissions_json[column][\"Emissionsfaktor\"]\n",
    "    return percent, emissionfactor"
   ]
  },
  {
   "cell_type": "code",
   "execution_count": 7,
   "metadata": {},
   "outputs": [],
   "source": [
    "# combined_gdf['Product'] = combined_gdf['Product'].apply(lambda x: x.split()[0])\n",
    "\n",
    "# Cell 6: Calculate Emissions for Each Product\n",
    "def calculate_emissions(row):\n",
    "    product = row[\"Product\"]\n",
    "    appliedRate = row[\"AppliedRate\"]\n",
    "    if product in calculate_emissions_json:\n",
    "        if calculate_emissions_json[product][\"Zusammensetzung\"]:\n",
    "            if isinstance(calculate_emissions_json[product][\"Zusammensetzung\"], dict):\n",
    "                composition = calculate_emissions_json[product][\"Zusammensetzung\"][\"N\"]\n",
    "            else:\n",
    "                composition = calculate_emissions_json[product][\"Zusammensetzung\"]\n",
    "            emissions_factor = calculate_emissions_json[product][\"Emissionsfaktor\"]\n",
    "            emissions = composition * appliedRate * emissions_factor\n",
    "        else:\n",
    "            emissions = appliedRate * calculate_emissions_json[product][\"Emissionsfaktor\"]\n",
    "    else:\n",
    "        emissions = 0\n",
    "    return emissions\n",
    "\n",
    "combined_gdf[\"Emissions\"] = combined_gdf.apply(calculate_emissions, axis=1)\n",
    "combined_gdf[\"FuelEmissions\"] = combined_gdf[\"FUEL\"] * calculate_emissions_json[\"FUEL\"][\"Emissionsfaktor\"]\n",
    "if \"VRYIELDMAS\" in combined_gdf.columns and \"DRYMATTER\" in combined_gdf.columns:\n",
    "    combined_gdf[\"YieldEmissions\"] = combined_gdf[\"VRYIELDMAS\"] * combined_gdf[\"DRYMATTER\"] * calculate_emissions_json[\"yield\"][\"Zusammensetzung\"] * calculate_emissions_json[\"yield\"][\"Emissionsfaktor\"]\n",
    "else:\n",
    "    combined_gdf[\"YieldEmissions\"] = 0\n",
    "# combined_gdf[\"YieldEmissions\"] = combined_gdf[\"VRYIELDMAS\"] *  combined_gdf[\"DRYMATTER\"] * calculate_emissions_json[\"yield\"][\"Zusammensetzung\"] * calculate_emissions_json[\"yield\"][\"Emissionsfaktor\"]"
   ]
  },
  {
   "cell_type": "code",
   "execution_count": 8,
   "metadata": {},
   "outputs": [
    {
     "name": "stdout",
     "output_type": "stream",
     "text": [
      "2115873.357712619\n"
     ]
    }
   ],
   "source": [
    "average_emissions = combined_gdf['Emissions'].mean() + combined_gdf['FuelEmissions'].mean() + combined_gdf['YieldEmissions'].mean()\n",
    "print(average_emissions * gemmingen_area)"
   ]
  },
  {
   "cell_type": "code",
   "execution_count": 9,
   "metadata": {},
   "outputs": [
    {
     "data": {
      "text/html": [
       "<div>\n",
       "<style scoped>\n",
       "    .dataframe tbody tr th:only-of-type {\n",
       "        vertical-align: middle;\n",
       "    }\n",
       "\n",
       "    .dataframe tbody tr th {\n",
       "        vertical-align: top;\n",
       "    }\n",
       "\n",
       "    .dataframe thead th {\n",
       "        text-align: right;\n",
       "    }\n",
       "</style>\n",
       "<table border=\"1\" class=\"dataframe\">\n",
       "  <thead>\n",
       "    <tr style=\"text-align: right;\">\n",
       "      <th></th>\n",
       "      <th>Emissions</th>\n",
       "    </tr>\n",
       "    <tr>\n",
       "      <th>Product</th>\n",
       "      <th></th>\n",
       "    </tr>\n",
       "  </thead>\n",
       "  <tbody>\n",
       "    <tr>\n",
       "      <th>0</th>\n",
       "      <td>0.000000e+00</td>\n",
       "    </tr>\n",
       "    <tr>\n",
       "      <th>ASS 26N</th>\n",
       "      <td>5.794823e+08</td>\n",
       "    </tr>\n",
       "    <tr>\n",
       "      <th>Broadway Plus</th>\n",
       "      <td>3.230304e+06</td>\n",
       "    </tr>\n",
       "    <tr>\n",
       "      <th>Curbatur + Caramba + Karate</th>\n",
       "      <td>6.705583e+06</td>\n",
       "    </tr>\n",
       "    <tr>\n",
       "      <th>Elatus Era + Countdown+U46M</th>\n",
       "      <td>1.201258e+07</td>\n",
       "    </tr>\n",
       "    <tr>\n",
       "      <th>Kalkamonsalpeter 27</th>\n",
       "      <td>6.729441e+08</td>\n",
       "    </tr>\n",
       "    <tr>\n",
       "      <th>Menge</th>\n",
       "      <td>1.315322e+10</td>\n",
       "    </tr>\n",
       "    <tr>\n",
       "      <th>Mertil + Herbosol</th>\n",
       "      <td>1.642850e+06</td>\n",
       "    </tr>\n",
       "  </tbody>\n",
       "</table>\n",
       "</div>"
      ],
      "text/plain": [
       "                                Emissions\n",
       "Product                                  \n",
       "0                            0.000000e+00\n",
       "ASS 26N                      5.794823e+08\n",
       "Broadway Plus                3.230304e+06\n",
       "Curbatur + Caramba + Karate  6.705583e+06\n",
       "Elatus Era + Countdown+U46M  1.201258e+07\n",
       "Kalkamonsalpeter 27          6.729441e+08\n",
       "Menge                        1.315322e+10\n",
       "Mertil + Herbosol            1.642850e+06"
      ]
     },
     "execution_count": 9,
     "metadata": {},
     "output_type": "execute_result"
    }
   ],
   "source": [
    "combined_gdf_grouped = combined_gdf.groupby(\"Product\").agg({\"Emissions\": \"sum\"}) * gemmingen_area\n",
    "combined_gdf_grouped"
   ]
  },
  {
   "cell_type": "code",
   "execution_count": 10,
   "metadata": {},
   "outputs": [],
   "source": [
    "# Cell 5: Save Combined GeoDataFrame as a Shapefile\n",
    "output_shapefile_path = os.path.join(root_folder, \"combined_data.geojson\")\n",
    "combined_gdf.to_file(output_shapefile_path,driver=\"GeoJSON\")"
   ]
  },
  {
   "cell_type": "code",
   "execution_count": null,
   "metadata": {},
   "outputs": [],
   "source": [
    "def gen_dash_plot(gdf, columnName, title):\n",
    "    # Convert the GeoDataFrame geometry to latitude and longitude\n",
    "    gdf[\"lon\"] = gdf.geometry.centroid.x\n",
    "    gdf[\"lat\"] = gdf.geometry.centroid.y\n",
    "\n",
    "     # Get the minimum and maximum values of the column\n",
    "    min_val = gdf[columnName].min()\n",
    "    max_val = gdf[columnName].max()\n",
    "\n",
    "    scatter_fig = px.scatter_mapbox(\n",
    "        gdf,\n",
    "        lat=\"lat\",\n",
    "        lon=\"lon\",\n",
    "        color=columnName,\n",
    "        hover_name=columnName,\n",
    "        hover_data={\"lon\": \":.5f\", \"lat\": \":.5f\"},  # Display coordinates with 5 decimal precision\n",
    "        title=title,\n",
    "        mapbox_style=\"open-street-map\",\n",
    "        zoom=15,\n",
    "        height=600,\n",
    "        range_color=[min_val, max_val],\n",
    "    )\n",
    "    scatter_fig.update_traces(marker=dict(size=10, opacity=0.7))  # Customize marker size and opacity\n",
    "    return scatter_fig\n"
   ]
  },
  {
   "cell_type": "code",
   "execution_count": null,
   "metadata": {},
   "outputs": [],
   "source": [
    "# Create a Dash app\n",
    "app = Dash(__name__)\n",
    "\n",
    "# Sample GeoDataFrame (replace with your actual data)\n",
    "# gdf = gpd.read_file(\"path_to_your_shapefile.shp\")\n",
    "columns = [\"FUEL\", \"AppliedRate\", \"Emissions\", \"FuelEmissions\", \"YieldEmissions\"]  # Non-geometry columns\n",
    "\n",
    "# App layout\n",
    "app.layout = html.Div([\n",
    "    html.H1(\"Interactive Scatter Mapbox\", style={'text-align': 'center'}),\n",
    "\n",
    "    # Dropdown for selecting the column to color by\n",
    "    html.Div([\n",
    "        html.Label(\"Select Column to Visualize:\"),\n",
    "        dcc.Dropdown(\n",
    "            id=\"color-dropdown\",\n",
    "            options=[{\"label\": col, \"value\": col} for col in columns],\n",
    "            value=columns[0],  # Default value\n",
    "            clearable=False,\n",
    "        )\n",
    "    ], style={'width': '50%', 'margin': 'auto'}),\n",
    "\n",
    "    # Map visualization\n",
    "    dcc.Graph(id=\"mapbox-plot\"),\n",
    "])\n",
    "\n",
    "# Callback to update the scatter plot dynamically\n",
    "@app.callback(\n",
    "    Output(\"mapbox-plot\", \"figure\"),\n",
    "    Input(\"color-dropdown\", \"value\")\n",
    ")\n",
    "def update_mapbox(selected_column):\n",
    "    return gen_dash_plot(combined_gdf, selected_column, title=f\"Scatter Mapbox - {selected_column}\")\n",
    "\n",
    "# Run the app\n",
    "if __name__ == \"__main__\":\n",
    "    app.run_server(debug=True)\n"
   ]
  },
  {
   "cell_type": "markdown",
   "metadata": {},
   "source": [
    "FertilizerAAS\n",
    "\n",
    "Kalkammonsalpeter\n",
    "http://localhost:8081/submodels/aHR0cHM6Ly9leGFtcGxlLmNvbS9pZHMvc20vNDQ2NF8xMjIwXzIxNDJfNDQ4Mg==/submodel-elements/amount/$value\n",
    "http://localhost:8081/submodels/aHR0cHM6Ly9leGFtcGxlLmNvbS9pZHMvc20vNDQ2NF8xMjIwXzIxNDJfNDQ4Mg==/submodel-elements/carbonEmission/$value\n",
    "\n",
    "Harnstoff\n",
    "http://localhost:8081/submodels/aHR0cHM6Ly9leGFtcGxlLmNvbS9pZHMvc20vMTIwNV8xMjIwXzIxNDJfNzAzMw==/submodel-elements/amount/$value\n",
    "http://localhost:8081/submodels/aHR0cHM6Ly9leGFtcGxlLmNvbS9pZHMvc20vMTIwNV8xMjIwXzIxNDJfNzAzMw==/submodel-elements/carbonEmission/$value\n",
    "\n",
    "Ammoniumsulfatsalpeter\n",
    "http://localhost:8081/submodels/aHR0cHM6Ly9leGFtcGxlLmNvbS9pZHMvc20vMjEzNV8xMjIwXzIxNDJfMjI5OQ==/submodel-elements/amount/$value\n",
    "http://localhost:8081/submodels/aHR0cHM6Ly9leGFtcGxlLmNvbS9pZHMvc20vMjEzNV8xMjIwXzIxNDJfMjI5OQ==/submodel-elements/carbonEmission/$value\n",
    "\n",
    "Diammonphosphat\n",
    "http://localhost:8081/submodels/aHR0cHM6Ly9leGFtcGxlLmNvbS9pZHMvc20vNzI3NV8xMjIwXzIxNDJfOTMyNQ==/submodel-elements/amount/$value\n",
    "http://localhost:8081/submodels/aHR0cHM6Ly9leGFtcGxlLmNvbS9pZHMvc20vNzI3NV8xMjIwXzIxNDJfOTMyNQ==/submodel-elements/carbonEmission/$value\n",
    "\n",
    "Gülle\n",
    "http://localhost:8081/submodels/aHR0cHM6Ly9leGFtcGxlLmNvbS9pZHMvc20vMTExMF8yMjIwXzIxNDJfODI4NQ==/submodel-elements/amount/$value\n",
    "http://localhost:8081/submodels/aHR0cHM6Ly9leGFtcGxlLmNvbS9pZHMvc20vMTExMF8yMjIwXzIxNDJfODI4NQ==/submodel-elements/carbonEmission/$value\n",
    "\n",
    "\n",
    "FuelAAS\n",
    "\n",
    "dataAttributes\n",
    "http://localhost:8081/submodels/aHR0cHM6Ly9leGFtcGxlLmNvbS9pZHMvc20vMzQ2M18yMjIwXzIxNDJfNTcwMA==/submodel-elements/amount/$value\n",
    "http://localhost:8081/submodels/aHR0cHM6Ly9leGFtcGxlLmNvbS9pZHMvc20vMzQ2M18yMjIwXzIxNDJfNTcwMA==/submodel-elements/carbonEmission/$value\n",
    "\n",
    "YieldAAS\n",
    "\n",
    "dataAttributes\n",
    "http://localhost:8081/submodels/aHR0cHM6Ly9leGFtcGxlLmNvbS9pZHMvc20vMzA3Ml8yMjIwXzIxNDJfOTgxNw==/submodel-elements/yieldMass/$value\n",
    "http://localhost:8081/submodels/aHR0cHM6Ly9leGFtcGxlLmNvbS9pZHMvc20vMzA3Ml8yMjIwXzIxNDJfOTgxNw==/submodel-elements/dryMatter/$value\n",
    "http://localhost:8081/submodels/aHR0cHM6Ly9leGFtcGxlLmNvbS9pZHMvc20vMzA3Ml8yMjIwXzIxNDJfOTgxNw==/submodel-elements/carbonEmission/$value\n",
    "\n",
    "CropProtection\n",
    "\n",
    "GeneralPesticides\n",
    "http://localhost:8081/submodels/aHR0cHM6Ly9leGFtcGxlLmNvbS9pZHMvc20vNDMxNF8xMDMwXzIxNDJfNDA0OA==/submodel-elements/amount/$value\n",
    "http://localhost:8081/submodels/aHR0cHM6Ly9leGFtcGxlLmNvbS9pZHMvc20vNDMxNF8xMDMwXzIxNDJfNDA0OA==/submodel-elements/carbonEmission/$value\n",
    "\n",
    "Fungicides\n",
    "http://localhost:8081/submodels/aHR0cHM6Ly9leGFtcGxlLmNvbS9pZHMvc20vMTEzNF8xMDMwXzIxNDJfNTk2NQ==/submodel-elements/amount/$value\n",
    "http://localhost:8081/submodels/aHR0cHM6Ly9leGFtcGxlLmNvbS9pZHMvc20vMTEzNF8xMDMwXzIxNDJfNTk2NQ==/submodel-elements/carbonEmission/$value\n",
    "\n",
    "Herbicides\n",
    "http://localhost:8081/submodels/aHR0cHM6Ly9leGFtcGxlLmNvbS9pZHMvc20vMzMzNF8xMDMwXzIxNDJfMzQxMQ==/submodel-elements/amount/$value\n",
    "http://localhost:8081/submodels/aHR0cHM6Ly9leGFtcGxlLmNvbS9pZHMvc20vMzMzNF8xMDMwXzIxNDJfMzQxMQ==/submodel-elements/carbonEmission/$value\n",
    "\n",
    "Insecticides\n",
    "http://localhost:8081/submodels/aHR0cHM6Ly9leGFtcGxlLmNvbS9pZHMvc20vNzUzNF8xMDMwXzIxNDJfMTg2OA==/submodel-elements/amount/$value\n",
    "http://localhost:8081/submodels/aHR0cHM6Ly9leGFtcGxlLmNvbS9pZHMvc20vNzUzNF8xMDMwXzIxNDJfMTg2OA==/submodel-elements/carbonEmission/$value\n",
    "\n",
    "\n"
   ]
  },
  {
   "cell_type": "code",
   "execution_count": null,
   "metadata": {},
   "outputs": [],
   "source": [
    "import requests\n",
    "import time\n",
    "# Define the URL for the PATCH request\n",
    "value_url = \"http://192.168.0.178:8081/submodels/aHR0cHM6Ly9leGFtcGxlLmNvbS9pZHMvc20vNDQ2NF8xMjIwXzIxNDJfNDQ4Mg==/submodel-elements/amount/$value\"\n",
    "emission_url = \"http://localhost:8081/submodels/aHR0cHM6Ly9leGFtcGxlLmNvbS9pZHMvc20vNDQ2NF8xMjIwXzIxNDJfNDQ4Mg==/submodel-elements/carbonEmission/$value\"\n",
    "\n",
    "# Define the headers, if required\n",
    "headers = {\n",
    "    \"Content-Type\": \"application/json\",  # Adjust based on the API's requirement\n",
    "}\n",
    "\n",
    "# Define the string to send in the body\n",
    "body = \"This is a string to send in the PATCH request\"\n",
    "\n",
    "# Send the PATCH request\n",
    "\n",
    "# Read the combined_gdf product field and check if it contains the Kalkammonsalpeter and read the AppliedRate as str\n",
    "if \"Kalkamonsalpeter 27\" in combined_gdf[\"Product\"].values:\n",
    "    applied_rate_str = combined_gdf.loc[combined_gdf[\"Product\"] == \"Kalkamonsalpeter 27\", \"AppliedRate\"].astype(str).values\n",
    "    # body = json.dumps({\"value\": applied_rate_str})\n",
    "\n",
    "    for value in applied_rate_str:\n",
    "        response = requests.patch(value_url, json=value, headers=headers)\n",
    "        # Check the status code\n",
    "        if response.status_code == 204:\n",
    "            print(\"PATCH request successful!\")\n",
    "            print(\"Response:\", response.text)\n",
    "        else:\n",
    "            print(f\"Failed with status code {response.status_code}: {response.text}\")\n",
    "#     response = requests.patch(value_url, data=body, headers=headers)\n",
    "#     # Check the status code\n",
    "#     if response.status_code == 200:\n",
    "#         print(\"PATCH request successful!\")\n",
    "#         print(\"Response:\", response.text)\n",
    "#     else:\n",
    "#         print(f\"Failed with status code {response.status_code}: {response.text}\")\n"
   ]
  },
  {
   "cell_type": "code",
   "execution_count": 23,
   "metadata": {},
   "outputs": [
    {
     "name": "stdout",
     "output_type": "stream",
     "text": [
      "Sent PATCH to http://192.168.0.178:8081/submodels/aHR0cHM6Ly9leGFtcGxlLmNvbS9pZHMvc20vNDQ2NF8xMjIwXzIxNDJfNDQ4Mg==/submodel-elements/amount/$value - Status Code: 204, Response Text: \n"
     ]
    }
   ],
   "source": [
    "import requests\n",
    "import json\n",
    "\n",
    "url = \"http://192.168.0.178:8081/submodels/aHR0cHM6Ly9leGFtcGxlLmNvbS9pZHMvc20vNDQ2NF8xMjIwXzIxNDJfNDQ4Mg==/submodel-elements/amount/$value\"\n",
    "payload = \"121\"\n",
    "response = requests.patch(url, json=payload, headers=headers)\n",
    "try:\n",
    "    print(f\"Sent PATCH to {url} - Status Code: {response.status_code}, Response: {response.json()}\")\n",
    "except json.JSONDecodeError:\n",
    "    print(f\"Sent PATCH to {url} - Status Code: {response.status_code}, Response Text: {response.text}\")"
   ]
  },
  {
   "cell_type": "code",
   "execution_count": null,
   "metadata": {},
   "outputs": [],
   "source": []
  }
 ],
 "metadata": {
  "kernelspec": {
   "display_name": "kisan",
   "language": "python",
   "name": "python3"
  },
  "language_info": {
   "codemirror_mode": {
    "name": "ipython",
    "version": 3
   },
   "file_extension": ".py",
   "mimetype": "text/x-python",
   "name": "python",
   "nbconvert_exporter": "python",
   "pygments_lexer": "ipython3",
   "version": "3.13.0"
  }
 },
 "nbformat": 4,
 "nbformat_minor": 2
}
