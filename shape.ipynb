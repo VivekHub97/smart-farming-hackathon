{
 "cells": [
  {
   "cell_type": "markdown",
   "metadata": {},
   "source": [
    "# Import statements"
   ]
  },
  {
   "cell_type": "code",
   "execution_count": 41,
   "metadata": {},
   "outputs": [],
   "source": [
    "# Cell 1: Import Libraries\n",
    "import geopandas as gpd\n",
    "import pandas as pd\n",
    "import glob\n",
    "import os\n",
    "import json\n",
    "\n",
    "# Set SHAPE_RESTORE_SHX environment variable\n",
    "os.environ[\"SHAPE_RESTORE_SHX\"] = \"YES\""
   ]
  },
  {
   "cell_type": "code",
   "execution_count": 42,
   "metadata": {},
   "outputs": [],
   "source": [
    "# Read the JSON file\n",
    "def read_json(filename):\n",
    "    with open(filename, 'r') as file:\n",
    "        gemmingen_data = json.load(file)\n",
    "    return gemmingen_data"
   ]
  },
  {
   "cell_type": "code",
   "execution_count": 43,
   "metadata": {},
   "outputs": [],
   "source": [
    "def open_gdf_file(file_path):\n",
    "    gdf = gpd.read_file(file_path)\n",
    "    return gdf"
   ]
  },
  {
   "cell_type": "code",
   "execution_count": 44,
   "metadata": {},
   "outputs": [
    {
     "name": "stdout",
     "output_type": "stream",
     "text": [
      "All shapefiles combined successfully!\n"
     ]
    }
   ],
   "source": [
    "# Cell 2: Define Root Folder and Initialize List\n",
    "root_folder = \"data/Erntejahr 2022 (Weizen, Düngung)\"\n",
    "\n",
    "calculate_emissions_json = read_json(\"gemmingen.json\")\n",
    "gemmingen_area = calculate_emissions_json[\"area\"]\n",
    "\n",
    "# Initialize an empty list to store shapefile paths\n",
    "shapefile_list = []\n",
    "\n",
    "# Traverse the directory structure\n",
    "for subdir, _, _ in os.walk(root_folder):\n",
    "    # Look for .shp files in the 'doc' folder of each subdirectory\n",
    "    shapefiles = glob.glob(os.path.join(subdir, \"doc\", \"*.shp\"))\n",
    "    shapefile_list.extend(shapefiles)\n",
    "\n",
    "\n",
    "# Cell 3: Read Shapefiles and Combine into a Single GeoDataFrame\n",
    "gdfs = []\n",
    "for shapefile_path in shapefile_list:\n",
    "    gdf = open_gdf_file(shapefile_path)\n",
    "    # Append the GeoDataFrame to a list\n",
    "    gdfs.append(gdf)\n",
    "\n",
    "# Concatenate all GeoDataFrames into a single GeoDataFrame\n",
    "combined_gdf = gpd.GeoDataFrame(pd.concat(gdfs, ignore_index=True), crs=gdfs[0].crs)\n",
    "\n",
    "# Fill missing values with NA\n",
    "combined_gdf = combined_gdf.fillna(0)\n",
    "\n",
    "# Cell 4: Display Output and Columns\n",
    "print(\"All shapefiles combined successfully!\")"
   ]
  },
  {
   "cell_type": "code",
   "execution_count": 45,
   "metadata": {},
   "outputs": [],
   "source": [
    "def getValues(column):\n",
    "    percent = calculate_emissions_json[column][\"Zusammensetzung\"]\n",
    "    emissionfactor = calculate_emissions_json[column][\"Emissionsfaktor\"]\n",
    "    return percent, emissionfactor"
   ]
  },
  {
   "cell_type": "code",
   "execution_count": 46,
   "metadata": {},
   "outputs": [],
   "source": [
    "# combined_gdf['Product'] = combined_gdf['Product'].apply(lambda x: x.split()[0])\n",
    "\n",
    "# Cell 6: Calculate Emissions for Each Product\n",
    "def calculate_emissions(row):\n",
    "    product = row[\"Product\"]\n",
    "    appliedRate = row[\"AppliedRate\"]\n",
    "    if product in calculate_emissions_json:\n",
    "        if calculate_emissions_json[product][\"Zusammensetzung\"]:\n",
    "            if isinstance(calculate_emissions_json[product][\"Zusammensetzung\"], dict):\n",
    "                composition = calculate_emissions_json[product][\"Zusammensetzung\"][\"N\"]\n",
    "            else:\n",
    "                composition = calculate_emissions_json[product][\"Zusammensetzung\"]\n",
    "            emissions_factor = calculate_emissions_json[product][\"Emissionsfaktor\"]\n",
    "            emissions = composition * appliedRate * emissions_factor\n",
    "        else:\n",
    "            emissions = appliedRate * calculate_emissions_json[product][\"Emissionsfaktor\"]\n",
    "    else:\n",
    "        emissions = 0\n",
    "    return emissions\n",
    "\n",
    "combined_gdf[\"Emissions\"] = combined_gdf.apply(calculate_emissions, axis=1)\n",
    "combined_gdf[\"FuelEmissions\"] = combined_gdf[\"FUEL\"] * calculate_emissions_json[\"FUEL\"][\"Emissionsfaktor\"]\n",
    "if \"VRYIELDMAS\" in combined_gdf.columns and \"DRYMATTER\" in combined_gdf.columns:\n",
    "    combined_gdf[\"YieldEmissions\"] = combined_gdf[\"VRYIELDMAS\"] * combined_gdf[\"DRYMATTER\"] * calculate_emissions_json[\"yield\"][\"Zusammensetzung\"] * calculate_emissions_json[\"yield\"][\"Emissionsfaktor\"]\n",
    "else:\n",
    "    combined_gdf[\"YieldEmissions\"] = 0\n",
    "# combined_gdf[\"YieldEmissions\"] = combined_gdf[\"VRYIELDMAS\"] *  combined_gdf[\"DRYMATTER\"] * calculate_emissions_json[\"yield\"][\"Zusammensetzung\"] * calculate_emissions_json[\"yield\"][\"Emissionsfaktor\"]"
   ]
  },
  {
   "cell_type": "code",
   "execution_count": 47,
   "metadata": {},
   "outputs": [
    {
     "name": "stdout",
     "output_type": "stream",
     "text": [
      "4692.094500322628\n"
     ]
    }
   ],
   "source": [
    "average_emissions = combined_gdf['Emissions'].mean() + combined_gdf['FuelEmissions'].mean() + combined_gdf['YieldEmissions'].mean()\n",
    "print(average_emissions * gemmingen_area)"
   ]
  },
  {
   "cell_type": "code",
   "execution_count": 48,
   "metadata": {},
   "outputs": [
    {
     "data": {
      "text/html": [
       "<div>\n",
       "<style scoped>\n",
       "    .dataframe tbody tr th:only-of-type {\n",
       "        vertical-align: middle;\n",
       "    }\n",
       "\n",
       "    .dataframe tbody tr th {\n",
       "        vertical-align: top;\n",
       "    }\n",
       "\n",
       "    .dataframe thead th {\n",
       "        text-align: right;\n",
       "    }\n",
       "</style>\n",
       "<table border=\"1\" class=\"dataframe\">\n",
       "  <thead>\n",
       "    <tr style=\"text-align: right;\">\n",
       "      <th></th>\n",
       "      <th>Emissions</th>\n",
       "    </tr>\n",
       "    <tr>\n",
       "      <th>Product</th>\n",
       "      <th></th>\n",
       "    </tr>\n",
       "  </thead>\n",
       "  <tbody>\n",
       "    <tr>\n",
       "      <th>ASS 26N</th>\n",
       "      <td>7.638323e+07</td>\n",
       "    </tr>\n",
       "    <tr>\n",
       "      <th>Gärsubstrat</th>\n",
       "      <td>0.000000e+00</td>\n",
       "    </tr>\n",
       "    <tr>\n",
       "      <th>Kalkamonsalpeter 27</th>\n",
       "      <td>4.072505e+08</td>\n",
       "    </tr>\n",
       "  </tbody>\n",
       "</table>\n",
       "</div>"
      ],
      "text/plain": [
       "                        Emissions\n",
       "Product                          \n",
       "ASS 26N              7.638323e+07\n",
       "Gärsubstrat          0.000000e+00\n",
       "Kalkamonsalpeter 27  4.072505e+08"
      ]
     },
     "execution_count": 48,
     "metadata": {},
     "output_type": "execute_result"
    }
   ],
   "source": [
    "combined_gdf_grouped = combined_gdf.groupby(\"Product\").agg({\"Emissions\": \"sum\"}) * gemmingen_area\n",
    "combined_gdf_grouped"
   ]
  },
  {
   "cell_type": "code",
   "execution_count": null,
   "metadata": {},
   "outputs": [],
   "source": [
    "# Cell 5: Save Combined GeoDataFrame as a Shapefile\n",
    "output_shapefile_path = os.path.join(root_folder, \"combined_shapefile.shp\")\n",
    "combined_gdf.to_file(output_shapefile_path)"
   ]
  }
 ],
 "metadata": {
  "kernelspec": {
   "display_name": "kisan",
   "language": "python",
   "name": "python3"
  },
  "language_info": {
   "codemirror_mode": {
    "name": "ipython",
    "version": 3
   },
   "file_extension": ".py",
   "mimetype": "text/x-python",
   "name": "python",
   "nbconvert_exporter": "python",
   "pygments_lexer": "ipython3",
   "version": "3.13.0"
  }
 },
 "nbformat": 4,
 "nbformat_minor": 2
}
