{
 "cells": [
  {
   "cell_type": "code",
   "execution_count": 33,
   "metadata": {},
   "outputs": [],
   "source": [
    "fertilizer_json = {\n",
    "    \"Kalkamonsalpeter\": {\n",
    "        \"Zusammensetzung\": 0.27,\n",
    "        \"Emissionsfaktor\": 7.101\n",
    "    },\n",
    "    \"Harnstoff\": {\n",
    "        \"Zusammensetzung\": 0.46,\n",
    "        \"Emissionsfaktor\": 12.4\n",
    "    },\n",
    "    \"ASS\": {\n",
    "        \"Zusammensetzung\": 0.26,\n",
    "        \"Emissionsfaktor\": 11.438\n",
    "    },\n",
    "    \"Diammonphosphat\": {\n",
    "        \"Zusammensetzung\": {\n",
    "            \"N\": 0.18,\n",
    "            \"P2O5\": 0.46\n",
    "        },\n",
    "        \"Emissionsfaktor\": 11.958\n",
    "    },\n",
    "    \"Gülle (Organisch)\": {\n",
    "        \"Zusammensetzung\": 1.0,\n",
    "        \"Emissionsfaktor\": 4.97\n",
    "    }\n",
    "}"
   ]
  },
  {
   "cell_type": "code",
   "execution_count": 34,
   "metadata": {},
   "outputs": [
    {
     "name": "stdout",
     "output_type": "stream",
     "text": [
      "All shapefiles combined successfully!\n"
     ]
    }
   ],
   "source": [
    "# Cell 1: Import Libraries\n",
    "import geopandas as gpd\n",
    "import pandas as pd\n",
    "import glob\n",
    "import os\n",
    "from shapely.geometry import MultiPoint\n",
    "\n",
    "# Set SHAPE_RESTORE_SHX environment variable\n",
    "os.environ[\"SHAPE_RESTORE_SHX\"] = \"YES\"\n",
    "\n",
    "# Cell 2: Define Root Folder and Initialize List\n",
    "root_folder = \"data/Erntejahr 2022 (Weizen, Düngung)\"\n",
    "\n",
    "# Initialize an empty list to store shapefile paths\n",
    "shapefile_list = []\n",
    "\n",
    "# Traverse the directory structure\n",
    "for subdir, _, _ in os.walk(root_folder):\n",
    "    # Look for .shp files in the 'doc' folder of each subdirectory\n",
    "    shapefiles = glob.glob(os.path.join(subdir, \"doc\", \"*.shp\"))\n",
    "    shapefile_list.extend(shapefiles)\n",
    "\n",
    "\n",
    "# Cell 3: Read Shapefiles and Combine into a Single GeoDataFrame\n",
    "gdfs = []\n",
    "for shapefile_path in shapefile_list:\n",
    "    gdf = gpd.read_file(shapefile_path)\n",
    "    # Append the GeoDataFrame to a list\n",
    "    gdfs.append(gdf)\n",
    "\n",
    "# Concatenate all GeoDataFrames into a single GeoDataFrame\n",
    "combined_gdf = gpd.GeoDataFrame(pd.concat(gdfs, ignore_index=True), crs=gdfs[0].crs)\n",
    "\n",
    "# Fill missing values with NA\n",
    "combined_gdf = combined_gdf.fillna('NA')\n",
    "\n",
    "# Cell 4: Display Output and Columns\n",
    "print(\"All shapefiles combined successfully!\")\n",
    "# Uncomment the lines below if you want to save the combined shapefile\n",
    "# Cell 5: Save Combined GeoDataFrame as a Shapefile\n",
    "# output_shapefile_path = os.path.join(root_folder, \"combined_shapefile.shp\")\n",
    "# combined_gdf.to_file(output_shapefile_path)\n"
   ]
  },
  {
   "cell_type": "code",
   "execution_count": null,
   "metadata": {},
   "outputs": [],
   "source": [
    "combined_gdf['Product'] = combined_gdf['Product'].apply(lambda x: x.split()[0])\n",
    "\n",
    "# Cell 6: Calculate Emissions for Each Product\n",
    "def calculate_emissions(row):\n",
    "    product = row[\"Product\"]\n",
    "    appliedRate = row[\"AppliedRate\"]\n",
    "    if product in fertilizer_json:\n",
    "        if fertilizer_json[product][\"Zusammensetzung\"]:\n",
    "            if isinstance(fertilizer_json[product][\"Zusammensetzung\"], dict):\n",
    "                composition = fertilizer_json[product][\"Zusammensetzung\"][\"N\"]\n",
    "            else:\n",
    "                composition = fertilizer_json[product][\"Zusammensetzung\"]\n",
    "            emissions_factor = fertilizer_json[product][\"Emissionsfaktor\"]\n",
    "            emissions = composition * appliedRate * emissions_factor\n",
    "        else:\n",
    "            emissions = appliedRate * fertilizer_json[product][\"Emissionsfaktor\"]\n",
    "    else:\n",
    "        emissions = 0\n",
    "    return emissions\n",
    "\n",
    "combined_gdf[\"Emissions\"] = combined_gdf.apply(calculate_emissions, axis=1)\n",
    "combined_gdf"
   ]
  },
  {
   "cell_type": "code",
   "execution_count": 36,
   "metadata": {},
   "outputs": [
    {
     "name": "stdout",
     "output_type": "stream",
     "text": [
      "244.63274829531895\n"
     ]
    }
   ],
   "source": [
    "average_emissions = combined_gdf['Emissions'].mean()\n",
    "print(average_emissions)"
   ]
  },
  {
   "cell_type": "code",
   "execution_count": 37,
   "metadata": {},
   "outputs": [
    {
     "name": "stdout",
     "output_type": "stream",
     "text": [
      "                     Emissions\n",
      "Product                       \n",
      "ASS               3.982442e+06\n",
      "Gärsubstrat       0.000000e+00\n",
      "Kalkamonsalpeter  2.123308e+07\n"
     ]
    }
   ],
   "source": [
    "combined_gdf_grouped = combined_gdf.groupby(\"Product\").agg({\"Emissions\": \"sum\"})\n",
    "print(combined_gdf_grouped)"
   ]
  }
 ],
 "metadata": {
  "kernelspec": {
   "display_name": "kisan",
   "language": "python",
   "name": "python3"
  },
  "language_info": {
   "codemirror_mode": {
    "name": "ipython",
    "version": 3
   },
   "file_extension": ".py",
   "mimetype": "text/x-python",
   "name": "python",
   "nbconvert_exporter": "python",
   "pygments_lexer": "ipython3",
   "version": "3.13.0"
  }
 },
 "nbformat": 4,
 "nbformat_minor": 2
}
